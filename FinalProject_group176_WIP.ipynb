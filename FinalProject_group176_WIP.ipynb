{
 "cells": [
  {
   "cell_type": "markdown",
   "metadata": {},
   "source": [
    "# COGS 108 - Final Project"
   ]
  },
  {
   "cell_type": "markdown",
   "metadata": {},
   "source": [
    "# Overview"
   ]
  },
  {
   "cell_type": "markdown",
   "metadata": {},
   "source": []
  },
  {
   "cell_type": "markdown",
   "metadata": {},
   "source": [
    "# Names"
   ]
  },
  {
   "cell_type": "markdown",
   "metadata": {},
   "source": [
    "Beverly Li  \n",
    "Jiahao Wang  \n",
    "Daniel Li  \n",
    "Saurabh Kanhegaonkar  \n",
    "Jenny Li  "
   ]
  },
  {
   "cell_type": "markdown",
   "metadata": {},
   "source": [
    "# Group Member IDs"
   ]
  },
  {
   "cell_type": "markdown",
   "metadata": {},
   "source": [
    "A13523828   \n",
    "A13052734   \n",
    "A15041127   \n",
    "A15286869   \n",
    "A14611173"
   ]
  },
  {
   "cell_type": "markdown",
   "metadata": {},
   "source": [
    "# Research Question"
   ]
  },
  {
   "cell_type": "markdown",
   "metadata": {},
   "source": []
  },
  {
   "cell_type": "markdown",
   "metadata": {},
   "source": [
    "# Background and Prior Work"
   ]
  },
  {
   "cell_type": "markdown",
   "metadata": {},
   "source": [
    "References (include link)\n",
    "1) \n",
    "2)"
   ]
  },
  {
   "cell_type": "markdown",
   "metadata": {},
   "source": [
    "# Hypothesis"
   ]
  },
  {
   "cell_type": "markdown",
   "metadata": {},
   "source": []
  },
  {
   "cell_type": "markdown",
   "metadata": {},
   "source": [
    "# Datasets"
   ]
  },
  {
   "cell_type": "markdown",
   "metadata": {},
   "source": [
    "(Copy this information for each dataset)\n",
    "Dataset Name:\n",
    "Link to the dataset:\n",
    "Number of observations:\n",
    "1-2 sentences describing each dataset.\n",
    "If you plan to use multiple datasets, add 1-2 sentences about how you plan to combine these datasets"
   ]
  },
  {
   "cell_type": "markdown",
   "metadata": {},
   "source": [
    "# Setup"
   ]
  },
  {
   "cell_type": "code",
   "execution_count": 1,
   "metadata": {},
   "outputs": [
    {
     "ename": "FileNotFoundError",
     "evalue": "File b'data/Most-Recent-Cohorts-All-Data-Elements.csv' does not exist",
     "output_type": "error",
     "traceback": [
      "\u001b[0;31m---------------------------------------------------------------------------\u001b[0m",
      "\u001b[0;31mFileNotFoundError\u001b[0m                         Traceback (most recent call last)",
      "\u001b[0;32m<ipython-input-1-e3c4f4610556>\u001b[0m in \u001b[0;36m<module>\u001b[0;34m()\u001b[0m\n\u001b[1;32m     26\u001b[0m \u001b[0mtreasury_elem\u001b[0m \u001b[0;34m=\u001b[0m \u001b[0mpd\u001b[0m\u001b[0;34m.\u001b[0m\u001b[0mread_csv\u001b[0m\u001b[0;34m(\u001b[0m\u001b[0;34m\"data/MERGED2016_17_PP.csv\"\u001b[0m\u001b[0;34m,\u001b[0m \u001b[0mlow_memory\u001b[0m\u001b[0;34m=\u001b[0m\u001b[0;32mFalse\u001b[0m\u001b[0;34m)\u001b[0m\u001b[0;34m\u001b[0m\u001b[0m\n\u001b[1;32m     27\u001b[0m \u001b[0mdf_merged\u001b[0m \u001b[0;34m=\u001b[0m \u001b[0mpd\u001b[0m\u001b[0;34m.\u001b[0m\u001b[0mDataFrame\u001b[0m\u001b[0;34m(\u001b[0m\u001b[0mtreasury_elem\u001b[0m\u001b[0;34m)\u001b[0m\u001b[0;34m\u001b[0m\u001b[0m\n\u001b[0;32m---> 28\u001b[0;31m \u001b[0mall_data_elem\u001b[0m \u001b[0;34m=\u001b[0m \u001b[0mpd\u001b[0m\u001b[0;34m.\u001b[0m\u001b[0mread_csv\u001b[0m\u001b[0;34m(\u001b[0m\u001b[0;34m\"data/Most-Recent-Cohorts-All-Data-Elements.csv\"\u001b[0m\u001b[0;34m,\u001b[0m \u001b[0mlow_memory\u001b[0m\u001b[0;34m=\u001b[0m\u001b[0;32mFalse\u001b[0m\u001b[0;34m)\u001b[0m\u001b[0;34m\u001b[0m\u001b[0m\n\u001b[0m\u001b[1;32m     29\u001b[0m \u001b[0mdf_all_data\u001b[0m \u001b[0;34m=\u001b[0m \u001b[0mpd\u001b[0m\u001b[0;34m.\u001b[0m\u001b[0mDataFrame\u001b[0m\u001b[0;34m(\u001b[0m\u001b[0mall_data_elem\u001b[0m\u001b[0;34m)\u001b[0m\u001b[0;34m\u001b[0m\u001b[0m\n\u001b[1;32m     30\u001b[0m \u001b[0;34m\u001b[0m\u001b[0m\n",
      "\u001b[0;32m/anaconda/lib/python3.6/site-packages/pandas/io/parsers.py\u001b[0m in \u001b[0;36mparser_f\u001b[0;34m(filepath_or_buffer, sep, delimiter, header, names, index_col, usecols, squeeze, prefix, mangle_dupe_cols, dtype, engine, converters, true_values, false_values, skipinitialspace, skiprows, nrows, na_values, keep_default_na, na_filter, verbose, skip_blank_lines, parse_dates, infer_datetime_format, keep_date_col, date_parser, dayfirst, iterator, chunksize, compression, thousands, decimal, lineterminator, quotechar, quoting, escapechar, comment, encoding, dialect, tupleize_cols, error_bad_lines, warn_bad_lines, skipfooter, skip_footer, doublequote, delim_whitespace, as_recarray, compact_ints, use_unsigned, low_memory, buffer_lines, memory_map, float_precision)\u001b[0m\n\u001b[1;32m    653\u001b[0m                     skip_blank_lines=skip_blank_lines)\n\u001b[1;32m    654\u001b[0m \u001b[0;34m\u001b[0m\u001b[0m\n\u001b[0;32m--> 655\u001b[0;31m         \u001b[0;32mreturn\u001b[0m \u001b[0m_read\u001b[0m\u001b[0;34m(\u001b[0m\u001b[0mfilepath_or_buffer\u001b[0m\u001b[0;34m,\u001b[0m \u001b[0mkwds\u001b[0m\u001b[0;34m)\u001b[0m\u001b[0;34m\u001b[0m\u001b[0m\n\u001b[0m\u001b[1;32m    656\u001b[0m \u001b[0;34m\u001b[0m\u001b[0m\n\u001b[1;32m    657\u001b[0m     \u001b[0mparser_f\u001b[0m\u001b[0;34m.\u001b[0m\u001b[0m__name__\u001b[0m \u001b[0;34m=\u001b[0m \u001b[0mname\u001b[0m\u001b[0;34m\u001b[0m\u001b[0m\n",
      "\u001b[0;32m/anaconda/lib/python3.6/site-packages/pandas/io/parsers.py\u001b[0m in \u001b[0;36m_read\u001b[0;34m(filepath_or_buffer, kwds)\u001b[0m\n\u001b[1;32m    403\u001b[0m \u001b[0;34m\u001b[0m\u001b[0m\n\u001b[1;32m    404\u001b[0m     \u001b[0;31m# Create the parser.\u001b[0m\u001b[0;34m\u001b[0m\u001b[0;34m\u001b[0m\u001b[0m\n\u001b[0;32m--> 405\u001b[0;31m     \u001b[0mparser\u001b[0m \u001b[0;34m=\u001b[0m \u001b[0mTextFileReader\u001b[0m\u001b[0;34m(\u001b[0m\u001b[0mfilepath_or_buffer\u001b[0m\u001b[0;34m,\u001b[0m \u001b[0;34m**\u001b[0m\u001b[0mkwds\u001b[0m\u001b[0;34m)\u001b[0m\u001b[0;34m\u001b[0m\u001b[0m\n\u001b[0m\u001b[1;32m    406\u001b[0m \u001b[0;34m\u001b[0m\u001b[0m\n\u001b[1;32m    407\u001b[0m     \u001b[0;32mif\u001b[0m \u001b[0mchunksize\u001b[0m \u001b[0;32mor\u001b[0m \u001b[0miterator\u001b[0m\u001b[0;34m:\u001b[0m\u001b[0;34m\u001b[0m\u001b[0m\n",
      "\u001b[0;32m/anaconda/lib/python3.6/site-packages/pandas/io/parsers.py\u001b[0m in \u001b[0;36m__init__\u001b[0;34m(self, f, engine, **kwds)\u001b[0m\n\u001b[1;32m    760\u001b[0m             \u001b[0mself\u001b[0m\u001b[0;34m.\u001b[0m\u001b[0moptions\u001b[0m\u001b[0;34m[\u001b[0m\u001b[0;34m'has_index_names'\u001b[0m\u001b[0;34m]\u001b[0m \u001b[0;34m=\u001b[0m \u001b[0mkwds\u001b[0m\u001b[0;34m[\u001b[0m\u001b[0;34m'has_index_names'\u001b[0m\u001b[0;34m]\u001b[0m\u001b[0;34m\u001b[0m\u001b[0m\n\u001b[1;32m    761\u001b[0m \u001b[0;34m\u001b[0m\u001b[0m\n\u001b[0;32m--> 762\u001b[0;31m         \u001b[0mself\u001b[0m\u001b[0;34m.\u001b[0m\u001b[0m_make_engine\u001b[0m\u001b[0;34m(\u001b[0m\u001b[0mself\u001b[0m\u001b[0;34m.\u001b[0m\u001b[0mengine\u001b[0m\u001b[0;34m)\u001b[0m\u001b[0;34m\u001b[0m\u001b[0m\n\u001b[0m\u001b[1;32m    763\u001b[0m \u001b[0;34m\u001b[0m\u001b[0m\n\u001b[1;32m    764\u001b[0m     \u001b[0;32mdef\u001b[0m \u001b[0mclose\u001b[0m\u001b[0;34m(\u001b[0m\u001b[0mself\u001b[0m\u001b[0;34m)\u001b[0m\u001b[0;34m:\u001b[0m\u001b[0;34m\u001b[0m\u001b[0m\n",
      "\u001b[0;32m/anaconda/lib/python3.6/site-packages/pandas/io/parsers.py\u001b[0m in \u001b[0;36m_make_engine\u001b[0;34m(self, engine)\u001b[0m\n\u001b[1;32m    964\u001b[0m     \u001b[0;32mdef\u001b[0m \u001b[0m_make_engine\u001b[0m\u001b[0;34m(\u001b[0m\u001b[0mself\u001b[0m\u001b[0;34m,\u001b[0m \u001b[0mengine\u001b[0m\u001b[0;34m=\u001b[0m\u001b[0;34m'c'\u001b[0m\u001b[0;34m)\u001b[0m\u001b[0;34m:\u001b[0m\u001b[0;34m\u001b[0m\u001b[0m\n\u001b[1;32m    965\u001b[0m         \u001b[0;32mif\u001b[0m \u001b[0mengine\u001b[0m \u001b[0;34m==\u001b[0m \u001b[0;34m'c'\u001b[0m\u001b[0;34m:\u001b[0m\u001b[0;34m\u001b[0m\u001b[0m\n\u001b[0;32m--> 966\u001b[0;31m             \u001b[0mself\u001b[0m\u001b[0;34m.\u001b[0m\u001b[0m_engine\u001b[0m \u001b[0;34m=\u001b[0m \u001b[0mCParserWrapper\u001b[0m\u001b[0;34m(\u001b[0m\u001b[0mself\u001b[0m\u001b[0;34m.\u001b[0m\u001b[0mf\u001b[0m\u001b[0;34m,\u001b[0m \u001b[0;34m**\u001b[0m\u001b[0mself\u001b[0m\u001b[0;34m.\u001b[0m\u001b[0moptions\u001b[0m\u001b[0;34m)\u001b[0m\u001b[0;34m\u001b[0m\u001b[0m\n\u001b[0m\u001b[1;32m    967\u001b[0m         \u001b[0;32melse\u001b[0m\u001b[0;34m:\u001b[0m\u001b[0;34m\u001b[0m\u001b[0m\n\u001b[1;32m    968\u001b[0m             \u001b[0;32mif\u001b[0m \u001b[0mengine\u001b[0m \u001b[0;34m==\u001b[0m \u001b[0;34m'python'\u001b[0m\u001b[0;34m:\u001b[0m\u001b[0;34m\u001b[0m\u001b[0m\n",
      "\u001b[0;32m/anaconda/lib/python3.6/site-packages/pandas/io/parsers.py\u001b[0m in \u001b[0;36m__init__\u001b[0;34m(self, src, **kwds)\u001b[0m\n\u001b[1;32m   1580\u001b[0m         \u001b[0mkwds\u001b[0m\u001b[0;34m[\u001b[0m\u001b[0;34m'allow_leading_cols'\u001b[0m\u001b[0;34m]\u001b[0m \u001b[0;34m=\u001b[0m \u001b[0mself\u001b[0m\u001b[0;34m.\u001b[0m\u001b[0mindex_col\u001b[0m \u001b[0;32mis\u001b[0m \u001b[0;32mnot\u001b[0m \u001b[0;32mFalse\u001b[0m\u001b[0;34m\u001b[0m\u001b[0m\n\u001b[1;32m   1581\u001b[0m \u001b[0;34m\u001b[0m\u001b[0m\n\u001b[0;32m-> 1582\u001b[0;31m         \u001b[0mself\u001b[0m\u001b[0;34m.\u001b[0m\u001b[0m_reader\u001b[0m \u001b[0;34m=\u001b[0m \u001b[0mparsers\u001b[0m\u001b[0;34m.\u001b[0m\u001b[0mTextReader\u001b[0m\u001b[0;34m(\u001b[0m\u001b[0msrc\u001b[0m\u001b[0;34m,\u001b[0m \u001b[0;34m**\u001b[0m\u001b[0mkwds\u001b[0m\u001b[0;34m)\u001b[0m\u001b[0;34m\u001b[0m\u001b[0m\n\u001b[0m\u001b[1;32m   1583\u001b[0m \u001b[0;34m\u001b[0m\u001b[0m\n\u001b[1;32m   1584\u001b[0m         \u001b[0;31m# XXX\u001b[0m\u001b[0;34m\u001b[0m\u001b[0;34m\u001b[0m\u001b[0m\n",
      "\u001b[0;32mpandas/_libs/parsers.pyx\u001b[0m in \u001b[0;36mpandas._libs.parsers.TextReader.__cinit__ (pandas/_libs/parsers.c:4209)\u001b[0;34m()\u001b[0m\n",
      "\u001b[0;32mpandas/_libs/parsers.pyx\u001b[0m in \u001b[0;36mpandas._libs.parsers.TextReader._setup_parser_source (pandas/_libs/parsers.c:8873)\u001b[0;34m()\u001b[0m\n",
      "\u001b[0;31mFileNotFoundError\u001b[0m: File b'data/Most-Recent-Cohorts-All-Data-Elements.csv' does not exist"
     ]
    }
   ],
   "source": [
    "%matplotlib inline\n",
    "\n",
    "# Import libraries\n",
    "import numpy as np\n",
    "import pandas as pd\n",
    "import matplotlib.pyplot as plt\n",
    "import seaborn as sns\n",
    "import patsy\n",
    "import scipy.stats as stats\n",
    "\n",
    "# Configure libraries\n",
    "# The seaborn library makes plots look nicer\n",
    "sns.set()\n",
    "sns.set_context('talk')\n",
    "\n",
    "# Don't display too many rows/cols of DataFrames\n",
    "pd.options.display.max_rows = 11\n",
    "pd.options.display.max_columns = 8\n",
    "\n",
    "# Round decimals when displaying DataFrames\n",
    "pd.set_option('precision', 3)\n",
    "\n",
    "# for graphs 1-3\n",
    "treasury_elem = pd.read_csv(\"./data/Most-Recent-Cohorts-Treasury-Elements.csv\", low_memory=False)\n",
    "df_treasury = pd.DataFrame(treasury_elem)\n",
    "treasury_elem = pd.read_csv(\"data/MERGED2016_17_PP.csv\", low_memory=False)\n",
    "df_merged = pd.DataFrame(treasury_elem)\n",
    "all_data_elem = pd.read_csv(\"data/Most-Recent-Cohorts-All-Data-Elements.csv\", low_memory=False)\n",
    "df_all_data = pd.DataFrame(all_data_elem)\n",
    "\n",
    "df_treasury = df_treasury[['UNITID', 'MD_EARN_WNE_P6', 'MD_EARN_WNE_P8', 'MD_EARN_WNE_P10']]\n",
    "df_all_data = df_all_data[['UNITID', 'ADM_RATE', 'HIGHDEG']]\n",
    "\n",
    "# for graphs 4-5\n",
    "majors_data = pd.read_csv('data/degrees-that-pay-back.csv')\n",
    "\n",
    "# for graphs 6-7\n",
    "rankings = pd.read_csv(\"data/cwurData.csv\")\n",
    "df_rank = pd.DataFrame(rankings)\n",
    "df_rank = df_rank[['institution', 'country', 'national_rank']]\n",
    "\n",
    "small_data_elem = pd.read_csv(\"data/salaries-by-region.csv\", low_memory=False)\n",
    "df_small_data = pd.DataFrame(small_data_elem)\n",
    "df_small_data = df_small_data[['School Name', 'Starting Median Salary', 'Mid-Career Median Salary']]"
   ]
  },
  {
   "cell_type": "markdown",
   "metadata": {},
   "source": [
    "# Data Cleaning"
   ]
  },
  {
   "cell_type": "markdown",
   "metadata": {},
   "source": [
    "Disclaimer: some schools are not in both datasets, resulting in missing ranks in the graphs"
   ]
  },
  {
   "cell_type": "code",
   "execution_count": null,
   "metadata": {},
   "outputs": [],
   "source": [
    "# clean data for graphs 1-3\n",
    "df_treasury = df_treasury.dropna()\n",
    "df_merged = df_merged.dropna()\n",
    "df_all_data = df_all_data.dropna()\n",
    "\n",
    "df_treasury = df_treasury[df_treasury.MD_EARN_WNE_P6 != 'PrivacySuppressed']\n",
    "\n",
    "# remove colleges with highest degree associate and below\n",
    "df_all_data = df_all_data[df_all_data.HIGHDEG > 2]         \n",
    "\n",
    "df_new = pd.merge(df_treasury, df_all_data, on=['UNITID'])\n",
    "df_new['MD_EARN_WNE_P6'] = pd.to_numeric(df_new['MD_EARN_WNE_P6'], downcast='signed')\n",
    "\n",
    "# clean data for graphs 4-5\n",
    "majors_data['Starting Median Salary'] = majors_data['Starting Median Salary'].str[1:]\n",
    "majors_data['Starting Median Salary'] = majors_data['Starting Median Salary'].str.replace(',', '')\n",
    "majors_data['Starting Median Salary'] = pd.to_numeric(majors_data['Starting Median Salary'])\n",
    "majors_data['Mid-Career Median Salary'] = majors_data['Mid-Career Median Salary'].str[1:]\n",
    "majors_data['Mid-Career Median Salary'] = majors_data['Mid-Career Median Salary'].str.replace(',', '')\n",
    "majors_data['Mid-Career Median Salary'] = pd.to_numeric(majors_data['Mid-Career Median Salary'])\n",
    "majors_data = majors_data.sort_values(by=['Starting Median Salary'])\n",
    "\n",
    "# clean data for graphs 6-7\n",
    "# standardize institution names for more matches between datasets\n",
    "def fix_name(name):\n",
    "    name = name.lower().strip()\n",
    "    if '(' in name:\n",
    "        name = name[:name.find('(')] + name[name.find(')')+1:]\n",
    "        name = name.replace(' ', '')\n",
    "        name = name.replace(',', '')\n",
    "        name = name.replace('-', '')\n",
    "        name = name.replace('â€“', '')\n",
    "        name = name.replace('the', '')\n",
    "        name = name.replace('&', '')\n",
    "        name = name.replace('and', '')\n",
    "        name = name.replace('of', '')\n",
    "        name = name.replace('at', '')\n",
    "    return name\n",
    "\n",
    "# manually match schools that could not be fixed with a general function (40 schools)\n",
    "def align_name():\n",
    "    df_rank.loc[220, 'School Name'] = 'University of Michigan'\n",
    "    df_rank.loc[224, 'School Name'] = 'University of Wisconsin (UW) - Madison'\n",
    "    df_rank.loc[227, 'School Name'] = 'University of Illinois at Urbana-Champaign (UIUC)'\n",
    "    df_rank.loc[228, 'School Name'] = 'University of Texas (UT) - Austin'\n",
    "    df_rank.loc[231, 'School Name'] = 'University of Washington (UW)'\n",
    "    df_rank.loc[232, 'School Name'] = 'Rutgers University'\n",
    "    df_rank.loc[245, 'School Name'] = 'Pennsylvania State University (PSU)'\n",
    "    df_rank.loc[246, 'School Name'] = 'Ohio State University (OSU)'\n",
    "    df_rank.loc[248, 'School Name'] = 'University of Minnesota'\n",
    "    df_rank.loc[251, 'School Name'] = 'Purdue University'\n",
    "    df_rank.loc[304, 'School Name'] = 'Texas A&M University'\n",
    "    df_rank.loc[312, 'School Name'] = 'Indiana University (IU), Bloomington'\n",
    "    df_rank.loc[372, 'School Name'] = 'University of South Florida (USF)'\n",
    "    df_rank.loc[382, 'School Name'] = 'University of Maryland Baltimore County (UMBC)'\n",
    "    df_rank.loc[395, 'School Name'] = 'University of Missouri - Columbia'\n",
    "    df_rank.loc[407, 'School Name'] = 'University of Massachusetts (UMass) - Amherst'\n",
    "    df_rank.loc[415, 'School Name'] = 'Louisiana State University (LSU) '\n",
    "    df_rank.loc[426, 'School Name'] = 'University of Tennessee'\n",
    "    df_rank.loc[434, 'School Name'] = 'University of Oklahoma'\n",
    "    df_rank.loc[438, 'School Name'] = 'University of Texas at San Antonio (UTSA)'\n",
    "    df_rank.loc[461, 'School Name'] = 'Colorado State University (CSU)'\n",
    "    df_rank.loc[467, 'School Name'] = 'State University of New York (SUNY) at Buffalo'\n",
    "    df_rank.loc[495, 'School Name'] = 'Washington State University (WSU)'\n",
    "    df_rank.loc[497, 'School Name'] = 'University of South Carolina'\n",
    "    df_rank.loc[534, 'School Name'] = 'University of Nebraska'\n",
    "    df_rank.loc[564, 'School Name'] = 'Oklahoma State University'\n",
    "    df_rank.loc[568, 'School Name'] = 'State University of New York (SUNY) at Albany'\n",
    "    df_rank.loc[640, 'School Name'] = 'University of Mississippi '\n",
    "    df_rank.loc[668, 'School Name'] = 'University of Hawaii'\n",
    "    df_rank.loc[676, 'School Name'] = 'University of Arkansas'\n",
    "    df_rank.loc[736, 'School Name'] = 'University of Wisconsin (UW) - Milwaukee'\n",
    "    df_rank.loc[758, 'School Name'] = 'University of Missouri - Kansas City (UMKC)'\n",
    "    df_rank.loc[803, 'School Name'] = 'University of Montana'\n",
    "    df_rank.loc[901, 'School Name'] = 'University Of Maine'\n",
    "    df_rank.loc[919, 'School Name'] = 'University of Missouri - St. Louis (UMSL)'\n",
    "    df_rank.loc[932, 'School Name'] = 'University of Alabama at Huntsville (UAH) '\n",
    "    df_rank.loc[945, 'School Name'] = 'University of North Dakota '\n",
    "    df_rank.loc[1012, 'School Name'] = 'University of Massachusetts (UMass) - Lowell '\n",
    "    df_rank.loc[1046, 'School Name'] = 'University of Massachusetts (UMass) - Boston'\n",
    "\n",
    "df_rank = df_rank.dropna()\n",
    "df_rank = df_rank[200:1200]\n",
    "df_rank = df_rank[df_rank['country'] == 'USA']\n",
    "df_rank.rename(columns={'institution':'School Name'}, inplace=True)\n",
    "align_name()\n",
    "df_rank['School Name'] = df_rank['School Name'].apply(fix_name)\n",
    "\n",
    "df_small_data = df_small_data.dropna()\n",
    "df_small_data['School Name'] = df_small_data['School Name'].apply(fix_name)\n",
    "\n",
    "df_merged = pd.merge(df_small_data, df_rank, on='School Name')\n",
    "df_merged = df_merged.sort_values(by=['national_rank'])\n",
    "\n",
    "df_merged['Starting Median Salary'] = df_merged['Starting Median Salary'].str[1:]\n",
    "df_merged['Starting Median Salary'] = df_merged['Starting Median Salary'].str.replace(',', '')\n",
    "df_merged['Starting Median Salary'] = pd.to_numeric(df_merged['Starting Median Salary'], downcast='signed')"
   ]
  },
  {
   "cell_type": "markdown",
   "metadata": {},
   "source": [
    "# Data Analysis & Results"
   ]
  },
  {
   "cell_type": "code",
   "execution_count": null,
   "metadata": {},
   "outputs": [],
   "source": [
    "# first graph: 6 years / admission rate\n",
    "plt.scatter(df_new['ADM_RATE'], df_new['MD_EARN_WNE_P6'], s=5)\n",
    "plt.title('Median Earnings 6 years after Entry')\n",
    "plt.xlabel('Admission Rate for College')\n",
    "plt.ylabel('Dollars')\n",
    "plt.yticks(np.arange(10000, 120000, step=12000))\n",
    "\n",
    "slope, intercept, r_value, p_value, std_err = stats.linregress(df_new['ADM_RATE'], df_new['MD_EARN_WNE_P6'])\n",
    "print(\"r value \" + str(r_value))\n",
    "print(\"p value \" + str(p_value))\n",
    "\n",
    "df_new = df_new[df_new.MD_EARN_WNE_P8 != 'PrivacySuppressed']\n",
    "df_new['MD_EARN_WNE_P8'] = pd.to_numeric(df_new['MD_EARN_WNE_P8'], downcast='signed')\n",
    "\n",
    "#second graph: 8 years / admission rate\n",
    "plt.figure(2)\n",
    "plt.scatter(df_new['ADM_RATE'], df_new['MD_EARN_WNE_P8'], s=5, color='green')\n",
    "plt.title('Median Earnings 8 years after Entry')\n",
    "plt.xlabel('Admission Rate for College')\n",
    "plt.ylabel('Dollars')\n",
    "plt.yticks(np.arange(10000, 120000, step=12000))\n",
    "\n",
    "slope, intercept, r_value, p_value, std_err = stats.linregress(df_new['ADM_RATE'], df_new['MD_EARN_WNE_P8'])\n",
    "print(\"r value \" + str(r_value))\n",
    "print(\"p value \" + str(p_value))\n",
    "\n",
    "df_new = df_new[df_new.MD_EARN_WNE_P10 != 'PrivacySuppressed']\n",
    "df_new['MD_EARN_WNE_P10'] = pd.to_numeric(df_new['MD_EARN_WNE_P10'], downcast='signed')\n",
    "\n",
    "#third graph: 10 years / admission rate\n",
    "plt.figure(3)\n",
    "plt.scatter(df_new['ADM_RATE'], df_new['MD_EARN_WNE_P10'], s=5, color='red')\n",
    "plt.title('Median Earnings 10 years after Entry')\n",
    "plt.xlabel('Admission Rate for College')\n",
    "plt.ylabel('Dollars')\n",
    "plt.yticks(np.arange(10000, 120000, step=12000))\n",
    "\n",
    "slope, intercept, r_value, p_value, std_err = stats.linregress(df_new['ADM_RATE'], df_new['MD_EARN_WNE_P10'])\n",
    "print(\"r value \" + str(r_value))\n",
    "print(\"p value \" + str(p_value))\n",
    "\n",
    "# fourth graph: starting median salary vs major\n",
    "ms_plot = majors_data.plot(x='Undergraduate Major', y=['Starting Median Salary'], title='Undergraduate Major vs. Starting Median Salary', kind='bar', figsize=(20,7))\n",
    "ms_plot.set_ylabel('Dollars')\n",
    "\n",
    "majors_data = majors_data.sort_values(by=['Mid-Career Median Salary'])\n",
    "\n",
    "# fifth graph: mid-career median salary vs major\n",
    "ms_plot = majors_data.plot(x='Undergraduate Major', y=['Mid-Career Median Salary'], title='Undergraduate Major vs. Mid-Career Median Salary', kind='bar', figsize=(20,7), color='goldenrod')\n",
    "ms_plot.set_ylabel('Dollars')\n",
    "\n",
    "# sixth graph: Ranking vs. Median Income\n",
    "plt.figure(6)\n",
    "plt.scatter(df_merged['national_rank'], df_merged['Starting Median Salary'], s=5, color='darkblue')\n",
    "plt.title('Starting Median Salary and Rank')\n",
    "plt.xlabel('National Ranking')\n",
    "plt.ylabel('Dollars')\n",
    "plt.yticks(np.arange(20000, 90000, step=10000))\n",
    "\n",
    "# get r_value\n",
    "slope, intercept, r_value, p_value, std_err = stats.linregress(df_merged['national_rank'], df_merged['Starting Median Salary'])\n",
    "print(\"Starting Median Salary and Rank r value: \" + str(r_value))\n",
    "print(\"Starting Median Salary and Rank p value: \" + str(p_value))\n",
    "\n",
    "axes = plt.gca()\n",
    "x_vals = np.array(axes.get_xlim())\n",
    "y_vals = intercept + slope * x_vals\n",
    "plt.plot(x_vals, y_vals, '-')\n",
    "\n",
    "df_merged['Mid-Career Median Salary'] = df_merged['Mid-Career Median Salary'].str[1:]\n",
    "df_merged['Mid-Career Median Salary'] = df_merged['Mid-Career Median Salary'].str.replace(',', '')\n",
    "df_merged['Mid-Career Median Salary'] = pd.to_numeric(df_merged['Mid-Career Median Salary'], downcast='signed')\n",
    "\n",
    "# seventh graph: \n",
    "plt.figure(7)\n",
    "plt.scatter(df_merged['national_rank'], df_merged['Mid-Career Median Salary'], s=5, color='darkred')\n",
    "plt.title('Mid-Career Median Salary and Rank')\n",
    "plt.xlabel('National Ranking')\n",
    "plt.ylabel('Dollars')\n",
    "plt.yticks(np.arange(20000, 200000, step=20000))\n",
    "\n",
    "# get r_value\n",
    "slope, intercept, r_value, p_value, std_err = stats.linregress(df_merged['national_rank'], df_merged['Mid-Career Median Salary'])\n",
    "print(\"Mid-Career Median Salary and Rank r value: \" + str(r_value))\n",
    "print(\"Mid-Career Median Salary and Rank p value: \" + str(p_value))\n",
    "\n",
    "axes = plt.gca()\n",
    "x_vals = np.array(axes.get_xlim())\n",
    "y_vals = intercept + slope * x_vals\n",
    "plt.plot(x_vals, y_vals, '-')\n"
   ]
  },
  {
   "cell_type": "markdown",
   "metadata": {},
   "source": [
    "# Ethics & Privacy"
   ]
  },
  {
   "cell_type": "markdown",
   "metadata": {},
   "source": []
  },
  {
   "cell_type": "markdown",
   "metadata": {},
   "source": [
    "# Conclusion & Discussion"
   ]
  },
  {
   "cell_type": "markdown",
   "metadata": {},
   "source": []
  }
 ],
 "metadata": {
  "kernelspec": {
   "display_name": "Python 3",
   "language": "python",
   "name": "python3"
  },
  "language_info": {
   "codemirror_mode": {
    "name": "ipython",
    "version": 3
   },
   "file_extension": ".py",
   "mimetype": "text/x-python",
   "name": "python",
   "nbconvert_exporter": "python",
   "pygments_lexer": "ipython3",
   "version": "3.6.2"
  }
 },
 "nbformat": 4,
 "nbformat_minor": 2
}
